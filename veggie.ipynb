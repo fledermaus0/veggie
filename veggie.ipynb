{
  "cells": [
    {
      "attachments": {},
      "cell_type": "markdown",
      "metadata": {
        "id": "YuLyxkcrOnw6"
      },
      "source": [
        "# Title: classification des images machine learning (RF,KNN)\n",
        "## Author: Ibrahim Bougarroua"
      ]
    },
    {
      "attachments": {},
      "cell_type": "markdown",
      "metadata": {
        "id": "Y8g1Flh1mL4H"
      },
      "source": [
        "## Source de données\n",
        "\n",
        "  Nous avons utilisé un ensemble de données qui a été préalablement défini pour classer les images de légumes dans notre projet. Si vous utilisez cet ensemble de données, veuillez citer la source : https://www.researchgate.net/publication/352846889_DCNN-Based_Vegetable_Image_Classification_Using_Transfer_Learning_A_Comparative_Study.\n",
        "\n",
        "  L'expérience initiale a été menée avec 15 types de légumes courants que l'on trouve partout dans le monde, tels que des haricots, de la courge amère, des aubergines, des brocolis, du chou, des poivrons, des carottes, du chou-fleur, des concombres, des pommes de terre, des citrouilles, des radis et des tomates. Un total de 21 000 images de 15 classes ont été utilisées, chaque classe contenant 1400 images de taille 224×224 et au format *.jpg. L'ensemble de données a été divisé en 70% pour l'entraînement, 15% pour la validation et 15% pour les tests.\n",
        "\n",
        "  L'ensemble de données contient trois dossiers : entraînement (15 000 images), test (3000 images) et validation (3000 images), chacun contenant des sous-dossiers pour différents légumes où les images correspondantes sont présentes.\n",
        "\n",
        "  Pour télécharger cet ensemble de données, vous pouvez cliquer sur le lien suivant : https://www.kaggle.com/datasets/misrakahmed/vegetable-image-dataset/download?datasetVersionNumber=1. \n",
        "\n",
        "  Les images de cet ensemble de données ont été collectées par les auteurs du projet à partir de fermes et de marchés de légumes.\n",
        "\n",
        "  Nous n'avons pas utilisé le dossier de validation de l'ensemble de données pour notre projet de classification d'images de légumes, car nous avons utilisé l'apprentissage automatique (machine learning) plutôt que l'apprentissage en profondeur (deep learning). En général, le dossier de validation est utilisé pour l'apprentissage en profondeur, où il est important de déterminer les performances du modèle sur des données qu'il n'a pas encore vues. Toutefois, dans notre cas, nous avons utilisé une technique de machine learning qui ne nécessite pas de validation séparée, car le modèle est capable d'ajuster ses paramètres pendant la formation pour obtenir les meilleurs résultats possibles."
      ]
    },
    {
      "cell_type": "code",
      "execution_count": null,
      "metadata": {
        "id": "To5K26HaOnw-"
      },
      "outputs": [],
      "source": [
        "import os ,pathlib\n",
        "import random\n",
        "import matplotlib.pyplot as plt\n",
        "import numpy as np\n",
        "from PIL import Image\n",
        "import shutil\n",
        "import numpy as np\n",
        "import os\n",
        "import cv2\n",
        "from sklearn.ensemble import RandomForestClassifier\n",
        "from sklearn.metrics import accuracy_score\n",
        "from sklearn.neighbors import KNeighborsClassifier\n",
        "from sklearn.metrics import confusion_matrix\n",
        "from joblib import dump, load\n"
      ]
    },
    {
      "cell_type": "code",
      "execution_count": null,
      "metadata": {
        "id": "-FNPzqJ-OnxA"
      },
      "outputs": [],
      "source": [
        "def copy_random_images(input_dir, output_dir, pct=0.2):\n",
        "    \"\"\"\n",
        "    Copy a random sample of images from each subdirectory in the input directory\n",
        "    to the corresponding subdirectory in the output directory.\n",
        "    pct is the percentage of images to copy (default: 20%).\n",
        "    \"\"\"\n",
        "    for subdir in os.listdir(input_dir):\n",
        "        subdir_path = os.path.join(input_dir, subdir)\n",
        "        if not os.path.isdir(subdir_path):\n",
        "            continue\n",
        "        output_subdir_path = os.path.join(output_dir, subdir)\n",
        "        os.makedirs(output_subdir_path, exist_ok=True)\n",
        "        img_files = [f for f in os.listdir(subdir_path) if f.endswith(\".jpg\")]\n",
        "        num_images = len(img_files)\n",
        "        num_images_to_copy = int(num_images * pct)\n",
        "        random.seed(42)  # Set a random seed for reproducibility\n",
        "        img_files_to_copy = random.sample(img_files, num_images_to_copy)\n",
        "        for img_file in img_files_to_copy:\n",
        "            img_path = os.path.join(subdir_path, img_file)\n",
        "            output_img_path = os.path.join(output_subdir_path, img_file)\n",
        "            shutil.copy(img_path, output_img_path)"
      ]
    },
    {
      "cell_type": "code",
      "execution_count": null,
      "metadata": {
        "id": "aw6AQfvbOnxE"
      },
      "outputs": [],
      "source": [
        "train_path_or = \"Vegetable_Images/train\"\n",
        "test_path_or = \"Vegetable_Images/test\"\n",
        "\n",
        "train_path = \"veggie_data/train/\"\n",
        "test_path = \"veggie_data/test/\""
      ]
    },
    {
      "attachments": {},
      "cell_type": "markdown",
      "metadata": {
        "id": "YpzRIaUumuR5"
      },
      "source": [
        "Seulement 30% du dataset a été utilisé dans cet exemple."
      ]
    },
    {
      "cell_type": "code",
      "execution_count": null,
      "metadata": {
        "id": "dURV8rJqOnxF"
      },
      "outputs": [],
      "source": [
        "copy_random_images(train_path_or,train_path,0.3)\n",
        "copy_random_images(test_path_or,test_path,0.3)\n"
      ]
    },
    {
      "cell_type": "code",
      "execution_count": null,
      "metadata": {
        "id": "EKsoZVIDOnxB"
      },
      "outputs": [],
      "source": [
        "def count_files(rootdir):\n",
        "    for path in pathlib.Path(rootdir).iterdir():\n",
        "        if path.is_dir():\n",
        "            print(\"There are \" + str(len([name for name in os.listdir(path) \\\n",
        "            if os.path.isfile(os.path.join(path, name))])) + \" files in \" + \\\n",
        "            str(path.name))"
      ]
    },
    {
      "cell_type": "code",
      "execution_count": null,
      "metadata": {
        "colab": {
          "base_uri": "https://localhost:8080/"
        },
        "id": "Rsolc2PmOnxF",
        "outputId": "3cd0b976-997e-452d-e467-730ef36d713e"
      },
      "outputs": [],
      "source": [
        "print(\"Les fichiers de Test \\n\")\n",
        "count_files(test_path)\n",
        "print(\"Les fichiers de Train \\n\" )\n",
        "count_files(train_path)"
      ]
    },
    {
      "cell_type": "code",
      "execution_count": null,
      "metadata": {
        "id": "XdB5JV0aOnxB"
      },
      "outputs": [],
      "source": [
        "def get_class(rootdir):\n",
        "    class_list=[]\n",
        "    for path in pathlib.Path(rootdir).iterdir():\n",
        "        if path.is_dir():\n",
        "            class_list.append(str(path.name))\n",
        "    return class_list        "
      ]
    },
    {
      "cell_type": "code",
      "execution_count": null,
      "metadata": {
        "colab": {
          "base_uri": "https://localhost:8080/"
        },
        "id": "KjiDtBshOnxG",
        "outputId": "9e0019ac-ce84-4f3e-a641-71622e165b6d"
      },
      "outputs": [],
      "source": [
        "print(get_class(train_path))"
      ]
    },
    {
      "cell_type": "code",
      "execution_count": null,
      "metadata": {
        "id": "tLUpa6TEOnxC"
      },
      "outputs": [],
      "source": [
        "def show_rd_imgs(dir_path,list_cat):\n",
        "    for c in list_cat :\n",
        "        d=os.path.join(dir_path,c)\n",
        "        file_list = [f for f in os.listdir(d) if os.path.isfile(os.path.join(d, f))]\n",
        "        random_file = random.choice(file_list)\n",
        "        img = Image.open(os.path.join(d, random_file))\n",
        "        img_array = np.array(img)\n",
        "        plt.imshow(img_array)\n",
        "        plt.title(c)\n",
        "        plt.show()"
      ]
    },
    {
      "cell_type": "code",
      "execution_count": null,
      "metadata": {
        "colab": {
          "base_uri": "https://localhost:8080/",
          "height": 1000
        },
        "id": "Z3tjZ-nEOnxG",
        "outputId": "62a0feff-5239-4585-d015-1fc97693a8b6"
      },
      "outputs": [],
      "source": [
        "show_rd_imgs(train_path,get_class(train_path))"
      ]
    },
    {
      "cell_type": "code",
      "execution_count": null,
      "metadata": {
        "id": "ZSeqOYgQOnxG"
      },
      "outputs": [],
      "source": [
        "# Define the list of classes\n",
        "classes = get_class(train_path)\n",
        "\n",
        "# Define the size of your input images (assuming all images have the same size)\n",
        "img_size = (256, 256)\n"
      ]
    },
    {
      "cell_type": "code",
      "execution_count": null,
      "metadata": {
        "id": "nv0vy8LqOnxH"
      },
      "outputs": [],
      "source": [
        "# Load the training images and labels\n",
        "X_train = []\n",
        "y_train = []\n",
        "for class_name in classes:\n",
        "    class_dir = os.path.join(train_path, class_name)\n",
        "    for img_name in os.listdir(class_dir):\n",
        "        img_path = os.path.join(class_dir, img_name)\n",
        "        img = cv2.imread(img_path)\n",
        "        img = cv2.resize(img, img_size)\n",
        "        X_train.append(img)\n",
        "        y_train.append(class_name)\n"
      ]
    },
    {
      "cell_type": "code",
      "execution_count": null,
      "metadata": {
        "id": "MNp7yRMJOnxH"
      },
      "outputs": [],
      "source": [
        "# Convert the training data to NumPy arrays\n",
        "X_train = np.array(X_train)\n",
        "y_train = np.array(y_train)\n"
      ]
    },
    {
      "cell_type": "code",
      "execution_count": null,
      "metadata": {
        "colab": {
          "base_uri": "https://localhost:8080/"
        },
        "id": "cQt82otaOnxH",
        "outputId": "02f548f2-8f06-446b-f3c9-f2aa8814bbe0"
      },
      "outputs": [],
      "source": [
        "print(len(y_train))"
      ]
    },
    {
      "cell_type": "code",
      "execution_count": null,
      "metadata": {
        "id": "FWtAOalaOnxH"
      },
      "outputs": [],
      "source": [
        "from sklearn import preprocessing\n",
        "le= preprocessing.LabelEncoder()\n",
        "le.fit(y_train)\n",
        "y_train_encoded= le.transform(y_train)"
      ]
    },
    {
      "cell_type": "code",
      "execution_count": null,
      "metadata": {
        "id": "Yxs4Y_WkOnxH"
      },
      "outputs": [],
      "source": [
        "y_train = y_train_encoded"
      ]
    },
    {
      "cell_type": "code",
      "execution_count": null,
      "metadata": {
        "id": "OYFBEDxuOnxI"
      },
      "outputs": [],
      "source": [
        "X_train = X_train.astype('float32') / 255.0"
      ]
    },
    {
      "cell_type": "code",
      "execution_count": null,
      "metadata": {
        "id": "J68XvvUjOnxI"
      },
      "outputs": [],
      "source": [
        "nsamples, nx, ny, nrgb = X_train.shape\n",
        "x_train = X_train.reshape((nsamples,nx*ny*nrgb))"
      ]
    },
    {
      "cell_type": "code",
      "execution_count": null,
      "metadata": {
        "id": "qjwAoxihOnxJ"
      },
      "outputs": [],
      "source": [
        "# Load the testing images and labels\n",
        "X_test = []\n",
        "y_test = []\n",
        "for class_name in classes:\n",
        "    class_dir = os.path.join(test_path, class_name)\n",
        "    for img_name in os.listdir(class_dir):\n",
        "        img_path = os.path.join(class_dir, img_name)\n",
        "        img = cv2.imread(img_path)\n",
        "        img = cv2.resize(img, img_size)\n",
        "        X_test.append(img)\n",
        "        y_test.append(class_name)\n"
      ]
    },
    {
      "cell_type": "code",
      "execution_count": null,
      "metadata": {
        "id": "l_4pblGKOnxJ"
      },
      "outputs": [],
      "source": [
        "# Convert the testing data to NumPy arrays\n",
        "X_test = np.array(X_test)\n",
        "y_test = np.array(y_test)\n"
      ]
    },
    {
      "cell_type": "code",
      "execution_count": null,
      "metadata": {
        "id": "CaLpDKiPOnxJ"
      },
      "outputs": [],
      "source": [
        "X_test= X_test.astype('float32') /255.0"
      ]
    },
    {
      "cell_type": "code",
      "execution_count": null,
      "metadata": {
        "id": "HwORHjSPOnxJ"
      },
      "outputs": [],
      "source": [
        "y_test_encoded= le.transform(y_test)"
      ]
    },
    {
      "cell_type": "code",
      "execution_count": null,
      "metadata": {
        "id": "iTBxV0n_OnxJ"
      },
      "outputs": [],
      "source": [
        "y_test=y_test_encoded"
      ]
    },
    {
      "cell_type": "code",
      "execution_count": null,
      "metadata": {
        "id": "T8r2EqPCOnxJ"
      },
      "outputs": [],
      "source": [
        "nsamples, nx, ny, nrgb = X_test.shape\n",
        "x_test = X_test.reshape((nsamples,nx*ny*nrgb))"
      ]
    },
    {
      "attachments": {},
      "cell_type": "markdown",
      "metadata": {
        "id": "2Jz1DPz41SCM"
      },
      "source": [
        "### Random Forest\n"
      ]
    },
    {
      "cell_type": "code",
      "execution_count": null,
      "metadata": {
        "colab": {
          "base_uri": "https://localhost:8080/",
          "height": 75
        },
        "id": "EogsjP6fOnxI",
        "outputId": "d7b3e079-922c-4e0e-dddb-b8a7db559f62"
      },
      "outputs": [],
      "source": [
        "# Extract features from the training data (for example, using a pre-trained model or feature extractor)\n",
        "# features_train = ...\n",
        "\n",
        "# Train a Random Forest classifier on the training data\n",
        "rfc = RandomForestClassifier(n_estimators=100, random_state=42)\n",
        "rfc.fit(x_train, y_train)"
      ]
    },
    {
      "cell_type": "code",
      "execution_count": null,
      "metadata": {
        "colab": {
          "base_uri": "https://localhost:8080/"
        },
        "id": "B88fjqNBOnxJ",
        "outputId": "2c8a18aa-9047-40d0-9e17-5c4f9c5497e6"
      },
      "outputs": [],
      "source": [
        "score = rfc.score(x_test, y_test)\n",
        "print(\"Accuracy: {:.2f}%\".format(score * 100))"
      ]
    },
    {
      "cell_type": "code",
      "execution_count": null,
      "metadata": {
        "id": "GTCaa_VIvkBK"
      },
      "outputs": [],
      "source": [
        "import matplotlib.pyplot as plt\n",
        "import seaborn as sns\n",
        "from sklearn.metrics import confusion_matrix\n",
        "\n",
        "def plot_confusion_matrix(y_true, y_pred, labels=None, title='Confusion Matrix'):\n",
        "    cm = confusion_matrix(y_true, y_pred, labels=labels)\n",
        "    plt.figure(figsize=(7, 5))\n",
        "    sns.heatmap(cm, annot=True, fmt='d', cmap='Blues', cbar=False, xticklabels=labels, yticklabels=labels)\n",
        "    plt.xlabel('Predicted')\n",
        "    plt.ylabel('True')\n",
        "    plt.title(title)\n",
        "    plt.show()\n"
      ]
    },
    {
      "cell_type": "code",
      "execution_count": null,
      "metadata": {
        "id": "GUtxKyn3BaJe"
      },
      "outputs": [],
      "source": [
        "# Prédire les classes pour les données de train\n",
        "y_pred1 = rfc.predict(x_train)\n"
      ]
    },
    {
      "cell_type": "code",
      "execution_count": null,
      "metadata": {},
      "outputs": [],
      "source": [
        "len(y_train)"
      ]
    },
    {
      "cell_type": "code",
      "execution_count": null,
      "metadata": {
        "id": "0czygkEJBaJf"
      },
      "outputs": [],
      "source": [
        "y_trainX = le.inverse_transform(y_train)\n",
        "y_pred1 = le.inverse_transform(y_pred1)"
      ]
    },
    {
      "cell_type": "code",
      "execution_count": null,
      "metadata": {
        "colab": {
          "base_uri": "https://localhost:8080/",
          "height": 564
        },
        "id": "qT0mcOPOBaJf",
        "outputId": "567d5605-eec3-49cc-8543-a192b1fcad72"
      },
      "outputs": [],
      "source": [
        "plot_confusion_matrix(y_trainX, y_pred1, classes)"
      ]
    },
    {
      "cell_type": "code",
      "execution_count": null,
      "metadata": {
        "id": "wLgEwIKQvj8J"
      },
      "outputs": [],
      "source": [
        "# Prédire les classes pour les données de test\n",
        "y_pred = rfc.predict(x_test)\n",
        "\n"
      ]
    },
    {
      "cell_type": "code",
      "execution_count": null,
      "metadata": {
        "id": "rqtP7K9fAk3K"
      },
      "outputs": [],
      "source": [
        "y_test = le.inverse_transform(y_test)\n",
        "y_pred = le.inverse_transform(y_pred)"
      ]
    },
    {
      "cell_type": "code",
      "execution_count": null,
      "metadata": {
        "colab": {
          "base_uri": "https://localhost:8080/",
          "height": 564
        },
        "id": "MAI1vIY3vj1F",
        "outputId": "9c2474eb-33df-49cf-fd18-1250500b37a9"
      },
      "outputs": [],
      "source": [
        "plot_confusion_matrix(y_test, y_pred, classes)"
      ]
    },
    {
      "attachments": {},
      "cell_type": "markdown",
      "metadata": {
        "id": "e5Fl-qnE1b0b"
      },
      "source": [
        "### KNN"
      ]
    },
    {
      "cell_type": "code",
      "execution_count": null,
      "metadata": {
        "id": "a34JeEipOnxK"
      },
      "outputs": [],
      "source": [
        "knn = KNeighborsClassifier(n_neighbors=5)"
      ]
    },
    {
      "cell_type": "code",
      "execution_count": null,
      "metadata": {
        "colab": {
          "base_uri": "https://localhost:8080/",
          "height": 75
        },
        "id": "wH_AIHPSOnxK",
        "outputId": "c8ca5041-9e7b-4871-e8f7-587da4125d7f"
      },
      "outputs": [],
      "source": [
        "# Train the classifier on the training data\n",
        "knn.fit(x_train, y_train)"
      ]
    },
    {
      "cell_type": "code",
      "execution_count": null,
      "metadata": {
        "id": "ImlIyt_C5YPR"
      },
      "outputs": [],
      "source": [
        "y_pred = knn.predict(x_test)"
      ]
    },
    {
      "cell_type": "code",
      "execution_count": null,
      "metadata": {
        "colab": {
          "base_uri": "https://localhost:8080/"
        },
        "id": "V732ssGKOnxK",
        "outputId": "44fc13be-b16e-4e88-d645-fbf1a12a34eb"
      },
      "outputs": [],
      "source": [
        "# Calculate the accuracy of the predictions\n",
        "accuracy = accuracy_score(y_test, y_pred)\n",
        "print(\"Accuracy: {:.2f}%\".format(accuracy * 100))"
      ]
    },
    {
      "cell_type": "code",
      "execution_count": null,
      "metadata": {
        "id": "TOOSVaLFCh8u"
      },
      "outputs": [],
      "source": [
        "# Prédire les classes pour les données de test\n",
        "y_pred2 = knn.predict(x_train)"
      ]
    },
    {
      "cell_type": "code",
      "execution_count": null,
      "metadata": {
        "id": "Z1oMNl7aaAtV"
      },
      "outputs": [],
      "source": [
        "del y_train"
      ]
    },
    {
      "cell_type": "code",
      "execution_count": null,
      "metadata": {
        "id": "x8t7d1KoaAtV"
      },
      "outputs": [],
      "source": [
        "# Load the training images and labels\n",
        "X_train = []\n",
        "y_train = []\n",
        "for class_name in classes:\n",
        "    class_dir = os.path.join(train_path, class_name)\n",
        "    for img_name in os.listdir(class_dir):\n",
        "        img_path = os.path.join(class_dir, img_name)\n",
        "        img = cv2.imread(img_path)\n",
        "        img = cv2.resize(img, img_size)\n",
        "        X_train.append(img)\n",
        "        y_train.append(class_name)\n"
      ]
    },
    {
      "cell_type": "code",
      "execution_count": null,
      "metadata": {
        "id": "P3_yg21aaAtV"
      },
      "outputs": [],
      "source": [
        "from sklearn import preprocessing\n",
        "le= preprocessing.LabelEncoder()\n",
        "le.fit(y_train)\n",
        "y_train_encoded= le.transform(y_train)"
      ]
    },
    {
      "cell_type": "code",
      "execution_count": null,
      "metadata": {
        "id": "WinWBvMiaAtW"
      },
      "outputs": [],
      "source": [
        "# Convert the training data to NumPy arrays\n",
        "X_train = np.array(X_train)\n",
        "y_train = np.array(y_train)\n"
      ]
    },
    {
      "cell_type": "code",
      "execution_count": null,
      "metadata": {
        "id": "z6a6pY2YaAtW"
      },
      "outputs": [],
      "source": [
        "y_train = y_train_encoded"
      ]
    },
    {
      "cell_type": "code",
      "execution_count": null,
      "metadata": {
        "id": "XLO1_CI9aAtW"
      },
      "outputs": [],
      "source": [
        "y_train = le.inverse_transform(y_train)\n"
      ]
    },
    {
      "cell_type": "code",
      "execution_count": null,
      "metadata": {
        "colab": {
          "base_uri": "https://localhost:8080/",
          "height": 564
        },
        "id": "x6hJD7_cChwm",
        "outputId": "8d7b30e2-7a53-4d14-e158-8c2c8b6e108c"
      },
      "outputs": [],
      "source": [
        "plot_confusion_matrix(y_train, y_pred2, classes)"
      ]
    },
    {
      "cell_type": "code",
      "execution_count": null,
      "metadata": {
        "id": "AtB1JN5EBl27"
      },
      "outputs": [],
      "source": [
        "del y_test"
      ]
    },
    {
      "cell_type": "code",
      "execution_count": null,
      "metadata": {
        "id": "C_wf5dbRDRNL"
      },
      "outputs": [],
      "source": [
        "# Load the testing images and labels\n",
        "X_test = []\n",
        "y_test = []\n",
        "for class_name in classes:\n",
        "    class_dir = os.path.join(test_path, class_name)\n",
        "    for img_name in os.listdir(class_dir):\n",
        "        img_path = os.path.join(class_dir, img_name)\n",
        "        img = cv2.imread(img_path)\n",
        "        img = cv2.resize(img, img_size)\n",
        "        X_test.append(img)\n",
        "        y_test.append(class_name)"
      ]
    },
    {
      "cell_type": "code",
      "execution_count": null,
      "metadata": {
        "id": "S77M0VcPDVw1"
      },
      "outputs": [],
      "source": [
        "# Convert the testing data to NumPy arrays\n",
        "X_test = np.array(X_test)\n",
        "y_test = np.array(y_test)"
      ]
    },
    {
      "cell_type": "code",
      "execution_count": null,
      "metadata": {
        "id": "rPg4IFj4DZH5"
      },
      "outputs": [],
      "source": [
        "y_test=y_train_encoded"
      ]
    },
    {
      "cell_type": "code",
      "execution_count": null,
      "metadata": {
        "id": "Wmnu5QYSCHjm"
      },
      "outputs": [],
      "source": [
        "# Prédire les classes pour les données de test\n",
        "y_test = le.inverse_transform(y_test)\n"
      ]
    },
    {
      "cell_type": "code",
      "execution_count": null,
      "metadata": {
        "id": "uPEcl29CdVsz"
      },
      "outputs": [],
      "source": [
        "y_pred2 = knn.predict(x_train)"
      ]
    },
    {
      "cell_type": "code",
      "execution_count": null,
      "metadata": {
        "colab": {
          "base_uri": "https://localhost:8080/",
          "height": 564
        },
        "id": "IlYR9y21CHjs",
        "outputId": "9405901f-ec01-487e-9097-cb0649dd9c15"
      },
      "outputs": [],
      "source": [
        "plot_confusion_matrix(y_test, y_pred2, classes)"
      ]
    },
    {
      "cell_type": "code",
      "execution_count": null,
      "metadata": {
        "colab": {
          "base_uri": "https://localhost:8080/"
        },
        "id": "2p6OunO1vm5q",
        "outputId": "68b7f9a5-0ce6-4541-e63e-9af99f34fd76"
      },
      "outputs": [],
      "source": [
        "from sklearn.metrics import classification_report\n",
        "\n",
        "print(classification_report(y_test, y_pred2, target_names=classes))\n"
      ]
    },
    {
      "cell_type": "code",
      "execution_count": null,
      "metadata": {},
      "outputs": [],
      "source": [
        "def predictShow(path,t):\n",
        "    i = cv2.imread(path)\n",
        "    i = cv2.cvtColor(i, cv2.COLOR_BGR2RGB)\n",
        "    plt.imshow(i)\n",
        "    plt.title(str(t[0]))\n",
        "    plt.show()"
      ]
    },
    {
      "cell_type": "code",
      "execution_count": null,
      "metadata": {},
      "outputs": [],
      "source": [
        "i = cv2.imread('test2.jpg')\n",
        "img = cv2.resize(i, img_size)\n",
        "X= np.array(img)\n",
        "X=X / 255.0\n",
        "nx, ny, nrgb = X.shape\n",
        "x = X.reshape((1,nx*ny*nrgb))\n",
        "y_pred = knn.predict(x)\n",
        "y_decoded = le.inverse_transform(y_pred)\n"
      ]
    },
    {
      "cell_type": "code",
      "execution_count": null,
      "metadata": {},
      "outputs": [],
      "source": [
        "predictShow(\"1.jpg\",y_decoded)"
      ]
    },
    {
      "cell_type": "code",
      "execution_count": null,
      "metadata": {},
      "outputs": [],
      "source": [
        "from joblib import dump, load\n",
        "dump(rfc, 'rfc_model.joblib')\n",
        "# Load the model from disk\n",
        "rfc = load('rfc_model.joblib')"
      ]
    }
  ],
  "metadata": {
    "colab": {
      "provenance": []
    },
    "kernelspec": {
      "display_name": "Python 3",
      "language": "python",
      "name": "python3"
    },
    "language_info": {
      "codemirror_mode": {
        "name": "ipython",
        "version": 3
      },
      "file_extension": ".py",
      "mimetype": "text/x-python",
      "name": "python",
      "nbconvert_exporter": "python",
      "pygments_lexer": "ipython3",
      "version": "3.10.6"
    },
    "orig_nbformat": 4
  },
  "nbformat": 4,
  "nbformat_minor": 0
}
